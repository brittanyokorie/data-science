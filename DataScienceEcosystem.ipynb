{
 "cells": [
  {
   "cell_type": "markdown",
   "id": "f4e953b5-0de0-4335-97b1-ea160eeccdb7",
   "metadata": {},
   "source": [
    "# Data Science Tools and Ecosystem"
   ]
  },
  {
   "cell_type": "markdown",
   "id": "94f730cc-933c-4b73-a514-678258d1fde5",
   "metadata": {},
   "source": [
    "In this notebook, Data Science Tools and Ecosystem are summarized."
   ]
  },
  {
   "cell_type": "markdown",
   "id": "dd5c4f00-0ac5-49c8-bf29-4df1e8a673b9",
   "metadata": {},
   "source": [
    "Some of the popular languages that Data Scienctists use are:\n",
    "1. Python\n",
    "2. SQL\n",
    "3. R"
   ]
  },
  {
   "cell_type": "markdown",
   "id": "1f6700a4-a437-491c-b282-4313e706c1a6",
   "metadata": {},
   "source": [
    "Some of the commonly used libraries used by Data Scientists include:\n",
    "1. Pandas\n",
    "2. Numpy\n",
    "3. Pyplot\n",
    "4. Matplotlib\n",
    "5. Seaborn\n",
    "6. Scikit-Learn"
   ]
  },
  {
   "cell_type": "markdown",
   "id": "510f31f5-c96d-4ade-9a39-81089bf9d397",
   "metadata": {},
   "source": [
    "Data Science Tools:\n",
    "1. Jupterlab\n",
    "2. IBM Watson Studio\n",
    "3. R Studio"
   ]
  },
  {
   "cell_type": "markdown",
   "id": "193befb1-218d-4f05-ac93-d74120191dd8",
   "metadata": {},
   "source": [
    "### Below are a few examples of evaluating arithmetic expressions in Python"
   ]
  },
  {
   "cell_type": "code",
   "execution_count": 7,
   "id": "d1d2cbba-2560-438f-8935-002d631f8d85",
   "metadata": {},
   "outputs": [
    {
     "data": {
      "text/plain": [
       "17"
      ]
     },
     "execution_count": 7,
     "metadata": {},
     "output_type": "execute_result"
    }
   ],
   "source": [
    "#This is a simple arithmetic expression to multipy then add integers\n",
    "(3*4)+5"
   ]
  },
  {
   "cell_type": "code",
   "execution_count": 8,
   "id": "da3ecd8b-b7a4-4a4b-9f45-0b8aee164c05",
   "metadata": {},
   "outputs": [
    {
     "data": {
      "text/plain": [
       "3.3333333333333335"
      ]
     },
     "execution_count": 8,
     "metadata": {},
     "output_type": "execute_result"
    }
   ],
   "source": [
    "#This will convert 200 minutes into hours by dividing by 60\n",
    "200/60"
   ]
  },
  {
   "cell_type": "markdown",
   "id": "c480add6-2f73-4ab3-aa18-4c970de887f7",
   "metadata": {},
   "source": [
    "**Objectives**"
   ]
  },
  {
   "cell_type": "markdown",
   "id": "d145b7db-9295-4beb-bdef-cb85047ebb55",
   "metadata": {},
   "source": [
    "- List  of Popular languages Data Scientists use.\n",
    "- Commonly used libraries used by Data Scientists.\n",
    "- List tools used in Data Science."
   ]
  },
  {
   "cell_type": "markdown",
   "id": "53595c42-e942-4e57-9a68-fe78d4d40d98",
   "metadata": {},
   "source": [
    "## Author\n",
    "Brittany"
   ]
  }
 ],
 "metadata": {
  "kernelspec": {
   "display_name": "Python 3 (ipykernel)",
   "language": "python",
   "name": "python3"
  },
  "language_info": {
   "codemirror_mode": {
    "name": "ipython",
    "version": 3
   },
   "file_extension": ".py",
   "mimetype": "text/x-python",
   "name": "python",
   "nbconvert_exporter": "python",
   "pygments_lexer": "ipython3",
   "version": "3.12.9"
  }
 },
 "nbformat": 4,
 "nbformat_minor": 5
}
